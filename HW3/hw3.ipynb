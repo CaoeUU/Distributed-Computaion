{
 "cells": [
  {
   "cell_type": "markdown",
   "id": "63a29840",
   "metadata": {},
   "source": [
    "# 作业3"
   ]
  },
  {
   "cell_type": "markdown",
   "id": "d761f5c6",
   "metadata": {},
   "source": [
    "### 第1题：统计计算练习"
   ]
  },
  {
   "cell_type": "markdown",
   "id": "a7691017",
   "metadata": {},
   "source": [
    "(a) 生成一个 $10000\\times 1000$ 的矩阵 `X`，每个元素服从标准正态分布。生成一个长度为 10000 的向量 `y`，每个元素服从均值为0、方差为2的正态分布。生成一个长度为 10000 的向量 `w`，每个元素服从 $(1,5)$ 上的均匀分布。"
   ]
  },
  {
   "cell_type": "code",
   "execution_count": 1,
   "id": "f97965e6",
   "metadata": {},
   "outputs": [
    {
     "name": "stderr",
     "output_type": "stream",
     "text": [
      "2024-05-05 15:03:51,330\tINFO worker.py:1715 -- Started a local Ray instance. View the dashboard at \u001b[1m\u001b[32m127.0.0.1:8265 \u001b[39m\u001b[22m\n"
     ]
    },
    {
     "data": {
      "application/vnd.jupyter.widget-view+json": {
       "model_id": "8f93e813c1f54585b13ce96782e33c46",
       "version_major": 2,
       "version_minor": 0
      },
      "text/html": [
       "<div class=\"lm-Widget p-Widget lm-Panel p-Panel jp-Cell-outputWrapper\">\n",
       "    <div style=\"margin-left: 50px;display: flex;flex-direction: row;align-items: center\">\n",
       "        <div class=\"jp-RenderedHTMLCommon\" style=\"display: flex; flex-direction: row;\">\n",
       "  <svg viewBox=\"0 0 567 224\" fill=\"none\" xmlns=\"http://www.w3.org/2000/svg\" style=\"height: 3em;\">\n",
       "    <g clip-path=\"url(#clip0_4338_178347)\">\n",
       "        <path d=\"M341.29 165.561H355.29L330.13 129.051C345.63 123.991 354.21 112.051 354.21 94.2307C354.21 71.3707 338.72 58.1807 311.88 58.1807H271V165.561H283.27V131.661H311.8C314.25 131.661 316.71 131.501 319.01 131.351L341.25 165.561H341.29ZM283.29 119.851V70.0007H311.82C331.3 70.0007 342.34 78.2907 342.34 94.5507C342.34 111.271 331.34 119.861 311.82 119.861L283.29 119.851ZM451.4 138.411L463.4 165.561H476.74L428.74 58.1807H416L367.83 165.561H380.83L392.83 138.411H451.4ZM446.19 126.601H398L422 72.1407L446.24 126.601H446.19ZM526.11 128.741L566.91 58.1807H554.35L519.99 114.181L485.17 58.1807H472.44L514.01 129.181V165.541H526.13V128.741H526.11Z\" fill=\"var(--jp-ui-font-color0)\"/>\n",
       "        <path d=\"M82.35 104.44C84.0187 97.8827 87.8248 92.0678 93.1671 87.9146C98.5094 83.7614 105.083 81.5067 111.85 81.5067C118.617 81.5067 125.191 83.7614 130.533 87.9146C135.875 92.0678 139.681 97.8827 141.35 104.44H163.75C164.476 101.562 165.622 98.8057 167.15 96.2605L127.45 56.5605C121.071 60.3522 113.526 61.6823 106.235 60.3005C98.9443 58.9187 92.4094 54.9203 87.8602 49.0574C83.3109 43.1946 81.0609 35.8714 81.5332 28.4656C82.0056 21.0599 85.1679 14.0819 90.4252 8.8446C95.6824 3.60726 102.672 0.471508 110.08 0.0272655C117.487 -0.416977 124.802 1.86091 130.647 6.4324C136.493 11.0039 140.467 17.5539 141.821 24.8501C143.175 32.1463 141.816 39.6859 138 46.0505L177.69 85.7505C182.31 82.9877 187.58 81.4995 192.962 81.4375C198.345 81.3755 203.648 82.742 208.33 85.3976C213.012 88.0532 216.907 91.9029 219.616 96.5544C222.326 101.206 223.753 106.492 223.753 111.875C223.753 117.258 222.326 122.545 219.616 127.197C216.907 131.848 213.012 135.698 208.33 138.353C203.648 141.009 198.345 142.375 192.962 142.313C187.58 142.251 182.31 140.763 177.69 138L138 177.7C141.808 184.071 143.155 191.614 141.79 198.91C140.424 206.205 136.44 212.75 130.585 217.313C124.731 221.875 117.412 224.141 110.004 223.683C102.596 223.226 95.6103 220.077 90.3621 214.828C85.1139 209.58 81.9647 202.595 81.5072 195.187C81.0497 187.779 83.3154 180.459 87.878 174.605C92.4405 168.751 98.9853 164.766 106.281 163.401C113.576 162.035 121.119 163.383 127.49 167.19L167.19 127.49C165.664 124.941 164.518 122.182 163.79 119.3H141.39C139.721 125.858 135.915 131.673 130.573 135.826C125.231 139.98 118.657 142.234 111.89 142.234C105.123 142.234 98.5494 139.98 93.2071 135.826C87.8648 131.673 84.0587 125.858 82.39 119.3H60C58.1878 126.495 53.8086 132.78 47.6863 136.971C41.5641 141.163 34.1211 142.972 26.7579 142.059C19.3947 141.146 12.6191 137.574 7.70605 132.014C2.79302 126.454 0.0813599 119.29 0.0813599 111.87C0.0813599 104.451 2.79302 97.2871 7.70605 91.7272C12.6191 86.1673 19.3947 82.5947 26.7579 81.6817C34.1211 80.7686 41.5641 82.5781 47.6863 86.7696C53.8086 90.9611 58.1878 97.2456 60 104.44H82.35ZM100.86 204.32C103.407 206.868 106.759 208.453 110.345 208.806C113.93 209.159 117.527 208.258 120.522 206.256C123.517 204.254 125.725 201.276 126.771 197.828C127.816 194.38 127.633 190.677 126.253 187.349C124.874 184.021 122.383 181.274 119.205 179.577C116.027 177.88 112.359 177.337 108.826 178.042C105.293 178.746 102.113 180.654 99.8291 183.44C97.5451 186.226 96.2979 189.718 96.3 193.32C96.2985 195.364 96.7006 197.388 97.4831 199.275C98.2656 201.163 99.4132 202.877 100.86 204.32ZM204.32 122.88C206.868 120.333 208.453 116.981 208.806 113.396C209.159 109.811 208.258 106.214 206.256 103.219C204.254 100.223 201.275 98.0151 197.827 96.97C194.38 95.9249 190.676 96.1077 187.348 97.4873C184.02 98.8669 181.274 101.358 179.577 104.536C177.879 107.714 177.337 111.382 178.041 114.915C178.746 118.448 180.653 121.627 183.439 123.911C186.226 126.195 189.717 127.443 193.32 127.44C195.364 127.443 197.388 127.042 199.275 126.259C201.163 125.476 202.878 124.328 204.32 122.88ZM122.88 19.4205C120.333 16.8729 116.981 15.2876 113.395 14.9347C109.81 14.5817 106.213 15.483 103.218 17.4849C100.223 19.4868 98.0146 22.4654 96.9696 25.9131C95.9245 29.3608 96.1073 33.0642 97.4869 36.3922C98.8665 39.7202 101.358 42.4668 104.535 44.1639C107.713 45.861 111.381 46.4036 114.914 45.6992C118.447 44.9949 121.627 43.0871 123.911 40.301C126.195 37.515 127.442 34.0231 127.44 30.4205C127.44 28.3772 127.038 26.3539 126.255 24.4664C125.473 22.5788 124.326 20.8642 122.88 19.4205ZM19.42 100.86C16.8725 103.408 15.2872 106.76 14.9342 110.345C14.5813 113.93 15.4826 117.527 17.4844 120.522C19.4863 123.518 22.4649 125.726 25.9127 126.771C29.3604 127.816 33.0638 127.633 36.3918 126.254C39.7198 124.874 42.4664 122.383 44.1635 119.205C45.8606 116.027 46.4032 112.359 45.6988 108.826C44.9944 105.293 43.0866 102.114 40.3006 99.8296C37.5145 97.5455 34.0227 96.2983 30.42 96.3005C26.2938 96.3018 22.337 97.9421 19.42 100.86ZM100.86 100.86C98.3125 103.408 96.7272 106.76 96.3742 110.345C96.0213 113.93 96.9226 117.527 98.9244 120.522C100.926 123.518 103.905 125.726 107.353 126.771C110.8 127.816 114.504 127.633 117.832 126.254C121.16 124.874 123.906 122.383 125.604 119.205C127.301 116.027 127.843 112.359 127.139 108.826C126.434 105.293 124.527 102.114 121.741 99.8296C118.955 97.5455 115.463 96.2983 111.86 96.3005C109.817 96.299 107.793 96.701 105.905 97.4835C104.018 98.2661 102.303 99.4136 100.86 100.86Z\" fill=\"#00AEEF\"/>\n",
       "    </g>\n",
       "    <defs>\n",
       "        <clipPath id=\"clip0_4338_178347\">\n",
       "            <rect width=\"566.93\" height=\"223.75\" fill=\"white\"/>\n",
       "        </clipPath>\n",
       "    </defs>\n",
       "  </svg>\n",
       "</div>\n",
       "\n",
       "        <table class=\"jp-RenderedHTMLCommon\" style=\"border-collapse: collapse;color: var(--jp-ui-font-color1);font-size: var(--jp-ui-font-size1);\">\n",
       "    <tr>\n",
       "        <td style=\"text-align: left\"><b>Python version:</b></td>\n",
       "        <td style=\"text-align: left\"><b>3.10.13</b></td>\n",
       "    </tr>\n",
       "    <tr>\n",
       "        <td style=\"text-align: left\"><b>Ray version:</b></td>\n",
       "        <td style=\"text-align: left\"><b>2.9.3</b></td>\n",
       "    </tr>\n",
       "    <tr>\n",
       "    <td style=\"text-align: left\"><b>Dashboard:</b></td>\n",
       "    <td style=\"text-align: left\"><b><a href=\"http://127.0.0.1:8265\" target=\"_blank\">http://127.0.0.1:8265</a></b></td>\n",
       "</tr>\n",
       "\n",
       "</table>\n",
       "\n",
       "    </div>\n",
       "</div>\n"
      ],
      "text/plain": [
       "RayContext(dashboard_url='127.0.0.1:8265', python_version='3.10.13', ray_version='2.9.3', ray_commit='62655e11ed76509b78654b60be67bc59f8f3460a', protocol_version=None)"
      ]
     },
     "execution_count": 1,
     "metadata": {},
     "output_type": "execute_result"
    }
   ],
   "source": [
    "# initialize ray\n",
    "import ray\n",
    "ray.init(num_cpus=8)"
   ]
  },
  {
   "cell_type": "code",
   "execution_count": 2,
   "id": "461535ac",
   "metadata": {},
   "outputs": [],
   "source": [
    "# load required libraries\n",
    "import numpy as np\n",
    "import more_itertools as mit\n",
    "import functools\n",
    "import time"
   ]
  },
  {
   "cell_type": "code",
   "execution_count": 3,
   "id": "0ac6d13b",
   "metadata": {},
   "outputs": [],
   "source": [
    "n = 10000\n",
    "p = 1000\n",
    "X = np.random.normal(size=(n, p))\n",
    "y = np.random.normal(loc=0, scale=np.sqrt(2), size=n)\n",
    "w = np.random.uniform(low=1.0, high=5.0, size=n)"
   ]
  },
  {
   "cell_type": "markdown",
   "id": "82fad746",
   "metadata": {},
   "source": [
    "(b) 使用恰当的方式计算 $\\hat{y}=X(X^{T}WX)^{-1}X^{T}Wy$，其中 `W` 是以 `w` 为对角线的对角矩阵，并打印出计算所耗费的时间。"
   ]
  },
  {
   "cell_type": "code",
   "execution_count": 4,
   "id": "ebf6b679",
   "metadata": {},
   "outputs": [
    {
     "name": "stdout",
     "output_type": "stream",
     "text": [
      "Time taken for calculation:  0.22847342491149902\n",
      "Result:  [[ 0.03412735]\n",
      " [-0.37166228]\n",
      " [-0.46364038]\n",
      " ...\n",
      " [-0.43557756]\n",
      " [ 0.67465689]\n",
      " [-0.26852423]]\n"
     ]
    }
   ],
   "source": [
    "start = time.time()\n",
    "XTw = X.T * w\n",
    "y_hat = X.dot(np.linalg.solve(XTw.dot(X), XTw.dot(y.reshape(n, 1))))\n",
    "end = time.time()\n",
    "print(\"Time taken for calculation: \", end - start)\n",
    "print(\"Result: \", y_hat)"
   ]
  },
  {
   "cell_type": "markdown",
   "id": "6d7bed85",
   "metadata": {},
   "source": [
    "### 第2题：利用 Ray 处理大型数据"
   ]
  },
  {
   "cell_type": "markdown",
   "id": "08c2b04e",
   "metadata": {},
   "source": [
    "给定数据文件 `sim_data.txt`，使用合适的方法，将数据每12345行作为一个分块，利用 Ray 并行地计算数据每一列的均值和标准差。请尽量对你的每一步操作加上注解或代码注释。"
   ]
  },
  {
   "cell_type": "code",
   "execution_count": 5,
   "id": "dda5f264",
   "metadata": {},
   "outputs": [
    {
     "name": "stdout",
     "output_type": "stream",
     "text": [
      "# The first line is a comment. You should skip it.\n",
      "\n",
      "# The second line is another comment.\n",
      "\n",
      "0.696469,0.286139,0.226851,0.551315,0.719469,0.423106,0.980764,0.684830,0.480932,0.392118\n",
      "\n",
      "0.343178,0.729050,0.438572,0.059678,0.398044,0.737995,0.182492,0.175452,0.531551,0.531828\n",
      "\n",
      "0.634401,0.849432,0.724455,0.611024,0.722443,0.322959,0.361789,0.228263,0.293714,0.630976\n",
      "\n"
     ]
    }
   ],
   "source": [
    "# read the first 5 lines\n",
    "with open(\"sim_data.txt\", encoding=\"utf-8\") as file:\n",
    "    for _ in range(5):\n",
    "        print(next(file))"
   ]
  },
  {
   "cell_type": "code",
   "execution_count": 6,
   "id": "0fa1c408",
   "metadata": {},
   "outputs": [],
   "source": [
    "def txt_to_mat(lines):\n",
    "    return np.loadtxt(lines, delimiter=\",\") # transfer to numpy matrix\n",
    "\n",
    "def mat_to_obj(mat):\n",
    "    return ray.put(mat) # transfer to object store\n",
    "\n",
    "batch_size = 12345\n",
    "with open(\"sim_data.txt\", encoding=\"utf-8\") as file:\n",
    "    next(file)\n",
    "    next(file) # skip header\n",
    "    it_chunk = mit.chunked(file, batch_size)\n",
    "    it_mat = map(txt_to_mat, it_chunk)\n",
    "    it_obj = map(mat_to_obj, it_mat)\n",
    "    batches = list(it_obj)"
   ]
  },
  {
   "cell_type": "code",
   "execution_count": 7,
   "id": "6a652b03",
   "metadata": {},
   "outputs": [
    {
     "name": "stdout",
     "output_type": "stream",
     "text": [
      "Mean:  [0.4998118  0.50005466 0.49987793 0.50002139 0.50005731 0.50007364\n",
      " 0.49995952 0.50009029 0.49997664 0.50001398]\n",
      "Standard Deviation:  [0.28861135 0.28863712 0.2887348  0.28869777 0.28871596 0.28872578\n",
      " 0.28873098 0.28869691 0.28867944 0.28868873]\n"
     ]
    }
   ],
   "source": [
    "@ray.remote\n",
    "def batch_summation(batch) -> tuple:\n",
    "    \"\"\"\n",
    "    batch: a batch of data, each row is a vector\n",
    "    return:\n",
    "        linear_sum: np.ndarray\n",
    "        quadratic_sum: np.ndarray\n",
    "        row_count: int\n",
    "    \"\"\"\n",
    "    linear_sum = np.sum(batch, axis=0)\n",
    "    quadratic_sum = np.sum(batch**2, axis=0)\n",
    "    row_count = batch.shape[0]\n",
    "    return (linear_sum, quadratic_sum, row_count)\n",
    "\n",
    "@ray.remote\n",
    "def summation(a, b):\n",
    "    \"\"\"\n",
    "    calculate the summation of two batches\n",
    "    \"\"\"\n",
    "    linear_sum = a[0] + b[0]\n",
    "    quadratic_sum = a[1] + b[1]\n",
    "    row_count = a[2] + b[2]\n",
    "    return (linear_sum, quadratic_sum, row_count)\n",
    "\n",
    "# transfer the batches into batch_summation iterator\n",
    "batch_summation = list(map(batch_summation.remote, batches))\n",
    "\n",
    "# calculate the summation of all batches\n",
    "summation = functools.reduce(summation.remote, batch_summation)\n",
    "summation = ray.get(summation)\n",
    "\n",
    "mean = summation[0] / summation[2]\n",
    "var = summation[1] / summation[2] - mean**2\n",
    "std = np.sqrt(var)\n",
    "\n",
    "print(\"Mean: \", mean)\n",
    "print(\"Standard Deviation: \", std)"
   ]
  },
  {
   "cell_type": "markdown",
   "id": "2d960f9c-abea-457a-93e1-139303cae549",
   "metadata": {},
   "source": [
    "### 第3题：分布式矩阵乘法"
   ]
  },
  {
   "cell_type": "markdown",
   "id": "ac000f00-fb16-4a54-b9a6-85e0c89fd61d",
   "metadata": {},
   "source": [
    "假设第2题中的数据表示为一个 $n\\times d$ 的矩阵 $X$。请随机产生一个 $d\\times 1$ 的向量 $v$，其每个元素服从独立的标准正态分布，然后选择合适的方法分布式地计算 $n^{-1}X^T Xv$。"
   ]
  },
  {
   "cell_type": "code",
   "execution_count": 8,
   "id": "d61c65b8",
   "metadata": {},
   "outputs": [
    {
     "name": "stdout",
     "output_type": "stream",
     "text": [
      "Result:  [-0.53283082 -0.46108077 -0.41977192 -0.48558497 -0.46904915 -0.48546932\n",
      " -0.52603428 -0.517377   -0.66091507 -0.46562161]\n"
     ]
    }
   ],
   "source": [
    "d = ray.get(batches[0]).shape[1]\n",
    "v = np.random.normal(size=d)\n",
    "\n",
    "@ray.remote\n",
    "def prod(batch, v):\n",
    "    xv = batch.dot(v)\n",
    "    xt_xv = batch.T.dot(xv)\n",
    "    row_count = batch.shape[0]\n",
    "    return (row_count, xt_xv)\n",
    "\n",
    "@ray.remote\n",
    "def add(x, y):\n",
    "    return (x[0] + y[0], x[1] + y[1])\n",
    "\n",
    "prod = list(map(lambda x: prod.remote(x, v), batches))\n",
    "row_and_prod = functools.reduce(add.remote, prod)\n",
    "result = ray.get(row_and_prod)\n",
    "result = result[1] / result[0]\n",
    "print(\"Result: \", result)"
   ]
  },
  {
   "cell_type": "code",
   "execution_count": 9,
   "id": "de5ce52e",
   "metadata": {},
   "outputs": [],
   "source": [
    "ray.shutdown()"
   ]
  }
 ],
 "metadata": {
  "kernelspec": {
   "display_name": "Python 3 (ipykernel)",
   "language": "python",
   "name": "python3"
  },
  "language_info": {
   "codemirror_mode": {
    "name": "ipython",
    "version": 3
   },
   "file_extension": ".py",
   "mimetype": "text/x-python",
   "name": "python",
   "nbconvert_exporter": "python",
   "pygments_lexer": "ipython3",
   "version": "3.10.13"
  }
 },
 "nbformat": 4,
 "nbformat_minor": 5
}
