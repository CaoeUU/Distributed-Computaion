{
 "cells": [
  {
   "cell_type": "markdown",
   "metadata": {},
   "source": [
    "# 作业4：线性模型的分布式算法"
   ]
  },
  {
   "cell_type": "markdown",
   "metadata": {},
   "source": [
    "### 第1题"
   ]
  },
  {
   "cell_type": "markdown",
   "metadata": {},
   "source": [
    "1. 打印数据文件 `sim_linear.txt` 的前5行，并适当将每行字符串截尾。"
   ]
  },
  {
   "cell_type": "code",
   "execution_count": 1,
   "metadata": {
    "scrolled": true
   },
   "outputs": [
    {
     "name": "stdout",
     "output_type": "stream",
     "text": [
      "Y1\tY2\tV1\tV2\tV3\tV4\tV5\tV6\tV7\tV8\tV9\tV10\tV11\tV12\tV13\tV14\tV15\tV16\tV17\tV18\tV...\n",
      "6.833723,0.000000,-1.085631,0.997345,0.282978,-1.506295,-0.578600,1.65...\n",
      "-7.759047,1.000000,-0.255619,-2.798589,-1.771533,-0.699877,0.927462,-0...\n",
      "-4.759579,0.000000,-0.772709,0.794863,0.314272,-1.326265,1.417299,0.80...\n",
      "15.867100,0.000000,1.150206,-1.267352,0.181035,1.177862,-0.335011,1.03...\n"
     ]
    }
   ],
   "source": [
    "with open(\"sim_linear.txt\", encoding=\"utf-8\") as file:\n",
    "    for i in range(5):\n",
    "        line = next(file)\n",
    "        print(line[:70] + \"...\")"
   ]
  },
  {
   "cell_type": "markdown",
   "metadata": {},
   "source": [
    "2. 在数据矩阵中，名为 $Y_1$ 和 $Y_2$ 的两个变量为因变量，其余的为自变量。请计算数据的样本量 $n$ 和自变量数目 $p$。"
   ]
  },
  {
   "cell_type": "code",
   "execution_count": 2,
   "metadata": {},
   "outputs": [
    {
     "name": "stdout",
     "output_type": "stream",
     "text": [
      "n = 2333333, p = 30\n"
     ]
    }
   ],
   "source": [
    "import numpy as np\n",
    "\n",
    "n = 0\n",
    "p = 0\n",
    "with open(\"sim_linear.txt\", encoding=\"utf-8\") as file:\n",
    "    header = next(file).strip().split(\"\\t\")\n",
    "    for element in header:\n",
    "        if element != \"Y1\" and element != \"Y2\":\n",
    "            p += 1\n",
    "    for _ in file:\n",
    "        n += 1\n",
    "print(f\"n = {n}, p = {p}\")"
   ]
  },
  {
   "cell_type": "markdown",
   "metadata": {},
   "source": [
    "3. 利用分布式计算的方法，按每10000个观测为一个批次读取数据，估计线性回归模型 $Y_1=\\beta_0+X\\beta+\\varepsilon$ 的回归系数，**同时包含截距项**。要求**只编写一个** `@ray.remote` 函数并且**只使用一个** `reduce()` 来完成计算。"
   ]
  },
  {
   "cell_type": "code",
   "execution_count": 3,
   "metadata": {},
   "outputs": [
    {
     "name": "stderr",
     "output_type": "stream",
     "text": [
      "2024-05-31 08:21:28,873\tINFO worker.py:1715 -- Started a local Ray instance. View the dashboard at \u001b[1m\u001b[32m127.0.0.1:8265 \u001b[39m\u001b[22m\n"
     ]
    },
    {
     "data": {
      "application/vnd.jupyter.widget-view+json": {
       "model_id": "8ef48467b5b84cac818c1a0b15a74a39",
       "version_major": 2,
       "version_minor": 0
      },
      "text/html": [
       "<div class=\"lm-Widget p-Widget lm-Panel p-Panel jp-Cell-outputWrapper\">\n",
       "    <div style=\"margin-left: 50px;display: flex;flex-direction: row;align-items: center\">\n",
       "        <div class=\"jp-RenderedHTMLCommon\" style=\"display: flex; flex-direction: row;\">\n",
       "  <svg viewBox=\"0 0 567 224\" fill=\"none\" xmlns=\"http://www.w3.org/2000/svg\" style=\"height: 3em;\">\n",
       "    <g clip-path=\"url(#clip0_4338_178347)\">\n",
       "        <path d=\"M341.29 165.561H355.29L330.13 129.051C345.63 123.991 354.21 112.051 354.21 94.2307C354.21 71.3707 338.72 58.1807 311.88 58.1807H271V165.561H283.27V131.661H311.8C314.25 131.661 316.71 131.501 319.01 131.351L341.25 165.561H341.29ZM283.29 119.851V70.0007H311.82C331.3 70.0007 342.34 78.2907 342.34 94.5507C342.34 111.271 331.34 119.861 311.82 119.861L283.29 119.851ZM451.4 138.411L463.4 165.561H476.74L428.74 58.1807H416L367.83 165.561H380.83L392.83 138.411H451.4ZM446.19 126.601H398L422 72.1407L446.24 126.601H446.19ZM526.11 128.741L566.91 58.1807H554.35L519.99 114.181L485.17 58.1807H472.44L514.01 129.181V165.541H526.13V128.741H526.11Z\" fill=\"var(--jp-ui-font-color0)\"/>\n",
       "        <path d=\"M82.35 104.44C84.0187 97.8827 87.8248 92.0678 93.1671 87.9146C98.5094 83.7614 105.083 81.5067 111.85 81.5067C118.617 81.5067 125.191 83.7614 130.533 87.9146C135.875 92.0678 139.681 97.8827 141.35 104.44H163.75C164.476 101.562 165.622 98.8057 167.15 96.2605L127.45 56.5605C121.071 60.3522 113.526 61.6823 106.235 60.3005C98.9443 58.9187 92.4094 54.9203 87.8602 49.0574C83.3109 43.1946 81.0609 35.8714 81.5332 28.4656C82.0056 21.0599 85.1679 14.0819 90.4252 8.8446C95.6824 3.60726 102.672 0.471508 110.08 0.0272655C117.487 -0.416977 124.802 1.86091 130.647 6.4324C136.493 11.0039 140.467 17.5539 141.821 24.8501C143.175 32.1463 141.816 39.6859 138 46.0505L177.69 85.7505C182.31 82.9877 187.58 81.4995 192.962 81.4375C198.345 81.3755 203.648 82.742 208.33 85.3976C213.012 88.0532 216.907 91.9029 219.616 96.5544C222.326 101.206 223.753 106.492 223.753 111.875C223.753 117.258 222.326 122.545 219.616 127.197C216.907 131.848 213.012 135.698 208.33 138.353C203.648 141.009 198.345 142.375 192.962 142.313C187.58 142.251 182.31 140.763 177.69 138L138 177.7C141.808 184.071 143.155 191.614 141.79 198.91C140.424 206.205 136.44 212.75 130.585 217.313C124.731 221.875 117.412 224.141 110.004 223.683C102.596 223.226 95.6103 220.077 90.3621 214.828C85.1139 209.58 81.9647 202.595 81.5072 195.187C81.0497 187.779 83.3154 180.459 87.878 174.605C92.4405 168.751 98.9853 164.766 106.281 163.401C113.576 162.035 121.119 163.383 127.49 167.19L167.19 127.49C165.664 124.941 164.518 122.182 163.79 119.3H141.39C139.721 125.858 135.915 131.673 130.573 135.826C125.231 139.98 118.657 142.234 111.89 142.234C105.123 142.234 98.5494 139.98 93.2071 135.826C87.8648 131.673 84.0587 125.858 82.39 119.3H60C58.1878 126.495 53.8086 132.78 47.6863 136.971C41.5641 141.163 34.1211 142.972 26.7579 142.059C19.3947 141.146 12.6191 137.574 7.70605 132.014C2.79302 126.454 0.0813599 119.29 0.0813599 111.87C0.0813599 104.451 2.79302 97.2871 7.70605 91.7272C12.6191 86.1673 19.3947 82.5947 26.7579 81.6817C34.1211 80.7686 41.5641 82.5781 47.6863 86.7696C53.8086 90.9611 58.1878 97.2456 60 104.44H82.35ZM100.86 204.32C103.407 206.868 106.759 208.453 110.345 208.806C113.93 209.159 117.527 208.258 120.522 206.256C123.517 204.254 125.725 201.276 126.771 197.828C127.816 194.38 127.633 190.677 126.253 187.349C124.874 184.021 122.383 181.274 119.205 179.577C116.027 177.88 112.359 177.337 108.826 178.042C105.293 178.746 102.113 180.654 99.8291 183.44C97.5451 186.226 96.2979 189.718 96.3 193.32C96.2985 195.364 96.7006 197.388 97.4831 199.275C98.2656 201.163 99.4132 202.877 100.86 204.32ZM204.32 122.88C206.868 120.333 208.453 116.981 208.806 113.396C209.159 109.811 208.258 106.214 206.256 103.219C204.254 100.223 201.275 98.0151 197.827 96.97C194.38 95.9249 190.676 96.1077 187.348 97.4873C184.02 98.8669 181.274 101.358 179.577 104.536C177.879 107.714 177.337 111.382 178.041 114.915C178.746 118.448 180.653 121.627 183.439 123.911C186.226 126.195 189.717 127.443 193.32 127.44C195.364 127.443 197.388 127.042 199.275 126.259C201.163 125.476 202.878 124.328 204.32 122.88ZM122.88 19.4205C120.333 16.8729 116.981 15.2876 113.395 14.9347C109.81 14.5817 106.213 15.483 103.218 17.4849C100.223 19.4868 98.0146 22.4654 96.9696 25.9131C95.9245 29.3608 96.1073 33.0642 97.4869 36.3922C98.8665 39.7202 101.358 42.4668 104.535 44.1639C107.713 45.861 111.381 46.4036 114.914 45.6992C118.447 44.9949 121.627 43.0871 123.911 40.301C126.195 37.515 127.442 34.0231 127.44 30.4205C127.44 28.3772 127.038 26.3539 126.255 24.4664C125.473 22.5788 124.326 20.8642 122.88 19.4205ZM19.42 100.86C16.8725 103.408 15.2872 106.76 14.9342 110.345C14.5813 113.93 15.4826 117.527 17.4844 120.522C19.4863 123.518 22.4649 125.726 25.9127 126.771C29.3604 127.816 33.0638 127.633 36.3918 126.254C39.7198 124.874 42.4664 122.383 44.1635 119.205C45.8606 116.027 46.4032 112.359 45.6988 108.826C44.9944 105.293 43.0866 102.114 40.3006 99.8296C37.5145 97.5455 34.0227 96.2983 30.42 96.3005C26.2938 96.3018 22.337 97.9421 19.42 100.86ZM100.86 100.86C98.3125 103.408 96.7272 106.76 96.3742 110.345C96.0213 113.93 96.9226 117.527 98.9244 120.522C100.926 123.518 103.905 125.726 107.353 126.771C110.8 127.816 114.504 127.633 117.832 126.254C121.16 124.874 123.906 122.383 125.604 119.205C127.301 116.027 127.843 112.359 127.139 108.826C126.434 105.293 124.527 102.114 121.741 99.8296C118.955 97.5455 115.463 96.2983 111.86 96.3005C109.817 96.299 107.793 96.701 105.905 97.4835C104.018 98.2661 102.303 99.4136 100.86 100.86Z\" fill=\"#00AEEF\"/>\n",
       "    </g>\n",
       "    <defs>\n",
       "        <clipPath id=\"clip0_4338_178347\">\n",
       "            <rect width=\"566.93\" height=\"223.75\" fill=\"white\"/>\n",
       "        </clipPath>\n",
       "    </defs>\n",
       "  </svg>\n",
       "</div>\n",
       "\n",
       "        <table class=\"jp-RenderedHTMLCommon\" style=\"border-collapse: collapse;color: var(--jp-ui-font-color1);font-size: var(--jp-ui-font-size1);\">\n",
       "    <tr>\n",
       "        <td style=\"text-align: left\"><b>Python version:</b></td>\n",
       "        <td style=\"text-align: left\"><b>3.10.13</b></td>\n",
       "    </tr>\n",
       "    <tr>\n",
       "        <td style=\"text-align: left\"><b>Ray version:</b></td>\n",
       "        <td style=\"text-align: left\"><b>2.9.3</b></td>\n",
       "    </tr>\n",
       "    <tr>\n",
       "    <td style=\"text-align: left\"><b>Dashboard:</b></td>\n",
       "    <td style=\"text-align: left\"><b><a href=\"http://127.0.0.1:8265\" target=\"_blank\">http://127.0.0.1:8265</a></b></td>\n",
       "</tr>\n",
       "\n",
       "</table>\n",
       "\n",
       "    </div>\n",
       "</div>\n"
      ],
      "text/plain": [
       "RayContext(dashboard_url='127.0.0.1:8265', python_version='3.10.13', ray_version='2.9.3', ray_commit='62655e11ed76509b78654b60be67bc59f8f3460a', protocol_version=None)"
      ]
     },
     "execution_count": 3,
     "metadata": {},
     "output_type": "execute_result"
    }
   ],
   "source": [
    "import ray\n",
    "ray.init()"
   ]
  },
  {
   "cell_type": "code",
   "execution_count": 4,
   "metadata": {},
   "outputs": [],
   "source": [
    "import more_itertools as mit\n",
    "\n",
    "def txt_to_mat(lines):\n",
    "    return np.loadtxt(lines, delimiter=\",\")\n",
    "\n",
    "def mat_to_objref(mat):\n",
    "    return ray.put(mat)\n",
    "\n",
    "batch_size = 10000\n",
    "\n",
    "with open(\"sim_linear.txt\", encoding=\"utf-8\") as file:\n",
    "    next(file)\n",
    "    it_chunk = mit.chunked(file, batch_size)\n",
    "    it_mat = map(txt_to_mat, it_chunk)\n",
    "    it_obj = map(mat_to_objref, it_mat)\n",
    "    batches = list(it_obj)"
   ]
  },
  {
   "cell_type": "code",
   "execution_count": 5,
   "metadata": {},
   "outputs": [
    {
     "name": "stdout",
     "output_type": "stream",
     "text": [
      "[ 3.14181941  0.13488122 -0.08797336  0.020057   -0.03026747  0.19883083\n",
      " -0.62364493  1.17550274 -0.47048949  1.02705771 -1.4166037   0.90081109\n",
      " -1.45796637  0.02245034  0.41823638  0.3620488   1.08189478 -1.42190939\n",
      "  0.15569311 -0.0610593   0.20316543 -0.61430485  3.19286015 -1.59859505\n",
      " -0.56599101  0.07856355  0.27565988  0.86695486 -0.3448698   0.18266883\n",
      " -2.29837604]\n"
     ]
    }
   ],
   "source": [
    "import functools\n",
    "\n",
    "@ray.remote\n",
    "def batch_multiply(batch) -> tuple:\n",
    "    X = batch[:, 2:]\n",
    "    X_plus = np.concatenate((np.ones((X.shape[0], 1)), X), axis=1)\n",
    "    Y1 = batch[:, 0]\n",
    "    XtX = X_plus.T @ X_plus\n",
    "    XtY1 = X_plus.T @ Y1\n",
    "    return (XtX, XtY1)\n",
    "\n",
    "def add(x, y):\n",
    "    return (x[0] + y[0], x[1] + y[1])\n",
    "\n",
    "batch_product = list(map(batch_multiply.remote, batches))\n",
    "product = functools.reduce(add, ray.get(batch_product))\n",
    "\n",
    "beta_hat = np.linalg.solve(product[0], product[1])\n",
    "print(beta_hat)"
   ]
  },
  {
   "cell_type": "markdown",
   "metadata": {},
   "source": [
    "4. 设计一个分布式算法，计算回归模型的 $R^2$。"
   ]
  },
  {
   "cell_type": "markdown",
   "metadata": {},
   "source": [
    "$$\n",
    "\\mathrm{R}=\\frac{\\operatorname{cov}(\\mathrm{y}, \\hat{\\mathrm{y}})}{\\widehat{\\sigma}_{\\mathrm{y}} \\widehat{\\sigma}_{\\hat{\\mathrm{y}}}}=\\frac{\\sum\\left(\\hat{\\mathrm{y}}_{\\mathrm{i}}-\\overline{\\mathrm{y}}\\right)^2}{\\sum\\left(\\mathrm{y}_{\\mathrm{i}}-\\overline{\\mathrm{y}}\\right)^2} = \\frac{\\sum \\hat{y_i}^2 - 2 \\hat{y_i} \\bar{y} + \\bar{y}^2}{\\sum y_i^2 - 2 y_i \\bar{y} + \\bar{y}^2} = \\frac{\\sum \\hat{y_i}^2 - \\sum 2 \\hat{y_i} \\bar{y} + n \\bar{y}^2}{\\sum y_i^2 - n \\bar{y}^2}"
   ]
  },
  {
   "cell_type": "code",
   "execution_count": 6,
   "metadata": {},
   "outputs": [
    {
     "name": "stdout",
     "output_type": "stream",
     "text": [
      "0.969087586943775\n"
     ]
    }
   ],
   "source": [
    "@ray.remote\n",
    "def batch_result(batch) -> tuple:\n",
    "    X = batch[:, 2:]\n",
    "    X_plus = np.concatenate((np.ones((X.shape[0], 1)), X), axis=1)\n",
    "    Y1 = batch[:, 0]\n",
    "    Y1_hat = X_plus @ beta_hat\n",
    "    sum_Y_hat = np.sum(Y1_hat)\n",
    "    sum_Y_hat_square = np.sum(Y1_hat ** 2)\n",
    "    sum_linear_y1 = np.sum(Y1)\n",
    "    sum_quad_y1 = np.sum(Y1 ** 2)\n",
    "    count = Y1.shape[0]\n",
    "    Y1_bar = sum_linear_y1 / count\n",
    "    RSS = sum_Y_hat_square - 2 * sum_Y_hat * Y1_bar + count * Y1_bar ** 2\n",
    "    SST = sum_quad_y1 - count * Y1_bar ** 2\n",
    "    return (RSS, SST)\n",
    "\n",
    "batch_result = list(map(batch_result.remote, batches))\n",
    "\n",
    "def add(x, y):\n",
    "    return (x[0] + y[0], x[1] + y[1])\n",
    "RSS, SST = functools.reduce(add, ray.get(batch_result))\n",
    "R_square = RSS / SST\n",
    "print(R_square)"
   ]
  },
  {
   "cell_type": "markdown",
   "metadata": {},
   "source": [
    "### 第2题"
   ]
  },
  {
   "cell_type": "markdown",
   "metadata": {},
   "source": [
    "1. 考虑 Softplus 函数 $$\\mathrm{softplus}(x)=\\log(1+e^x)$$\n",
    "\n",
    "请利用 Numpy 编写一个函数 `softplus(x)`，令其可以接收一个向量或矩阵 `x`，返回 Softplus 函数在 `x` 上的取值。"
   ]
  },
  {
   "cell_type": "code",
   "execution_count": 12,
   "metadata": {},
   "outputs": [],
   "source": [
    "import numpy as np\n",
    "\n",
    "def softplus(x: np.ndarray) -> np.ndarray:\n",
    "    # 此处插入代码\n",
    "    return np.log(1 + np.exp(x))\n"
   ]
  },
  {
   "cell_type": "markdown",
   "metadata": {},
   "source": [
    "一个简单的测试："
   ]
  },
  {
   "cell_type": "code",
   "execution_count": 13,
   "metadata": {},
   "outputs": [
    {
     "name": "stdout",
     "output_type": "stream",
     "text": [
      "[0.00000000e+00 0.00000000e+00 4.53988992e-05 6.93147181e-01\n",
      " 1.31326169e+00 1.00000454e+01 1.00000000e+02            inf]\n"
     ]
    },
    {
     "name": "stderr",
     "output_type": "stream",
     "text": [
      "C:\\Users\\15827\\AppData\\Local\\Temp\\ipykernel_14380\\702273800.py:5: RuntimeWarning: overflow encountered in exp\n",
      "  return np.log(1 + np.exp(x))\n"
     ]
    }
   ],
   "source": [
    "x = np.array([-1000.0, -100.0, -10.0, 0.0, 1.0, 10.0, 100.0, 1000.0])\n",
    "\n",
    "# 上面编写的函数\n",
    "print(softplus(x))"
   ]
  },
  {
   "cell_type": "markdown",
   "metadata": {},
   "source": [
    "2. 上述结果是否正常？如果出现异常取值，思考可能的原因是什么，并参照课件上的说明再次尝试编写 Softplus 函数。注意尽可能使用 Numpy 提供的向量化函数，避免使用循环。该函数需同时支持向量和矩阵参数。如果一切正常，可忽略此问题。"
   ]
  },
  {
   "cell_type": "markdown",
   "metadata": {},
   "source": [
    "上述结果不正常，是由于输入中存在使得函数超过最小精度的数值。"
   ]
  },
  {
   "cell_type": "code",
   "execution_count": 14,
   "metadata": {},
   "outputs": [],
   "source": [
    "def softplus(x):\n",
    "    # 此处插入代码\n",
    "    return np.maximum(x, 0) + np.log(1 + np.exp(-np.abs(x)))"
   ]
  },
  {
   "cell_type": "markdown",
   "metadata": {},
   "source": [
    "再次测试："
   ]
  },
  {
   "cell_type": "code",
   "execution_count": 15,
   "metadata": {},
   "outputs": [
    {
     "name": "stdout",
     "output_type": "stream",
     "text": [
      "[0.00000000e+00 0.00000000e+00 4.53988992e-05 6.93147181e-01\n",
      " 1.31326169e+00 1.00000454e+01 1.00000000e+02 1.00000000e+03]\n",
      "\n",
      "[[0.00000000e+00 0.00000000e+00]\n",
      " [4.53988992e-05 6.93147181e-01]\n",
      " [1.31326169e+00 1.00000454e+01]\n",
      " [1.00000000e+02 1.00000000e+03]]\n"
     ]
    }
   ],
   "source": [
    "print(softplus(x))\n",
    "print()\n",
    "print(softplus(x.reshape(4, 2)))"
   ]
  },
  {
   "cell_type": "markdown",
   "metadata": {},
   "source": [
    "### 第3题"
   ]
  },
  {
   "cell_type": "markdown",
   "metadata": {},
   "source": [
    "利用第1题中的数据，在 $Y_2$ 与 $X$ 之间建立 Logistic 回归模型。任选一种算法，估计 Logistic 回归的回归系数，**同时包含截距项**。请利用第2题中编写的 Softplus 函数，编写**数值稳定**的函数计算 Logistic 回归的目标函数和梯度（参见第11节课件）。"
   ]
  },
  {
   "cell_type": "code",
   "execution_count": 16,
   "metadata": {},
   "outputs": [],
   "source": [
    "@ray.remote\n",
    "def batch_obj_grad(batch, beta_old):\n",
    "    from scipy.special import expit\n",
    "    Y2 = batch[:, 1]\n",
    "    X = batch[:, 2:]\n",
    "    X = np.concatenate((np.ones((X.shape[0], 1)), X), axis=1)\n",
    "    Xbeta = X @ beta_old\n",
    "    \n",
    "    prob = expit(Xbeta)\n",
    "    softplus_Xbeta = softplus(Xbeta)\n",
    "    obj = - np.sum(Y2 * (Xbeta - softplus_Xbeta) - (1 - Y2) * softplus_Xbeta)\n",
    "    grad = X.T @ (prob - Y2)\n",
    "    count = X.shape[0]\n",
    "    return (count, obj, grad)\n",
    "\n",
    "def compute_obj_grad(batches, beta_old):\n",
    "    res_iter = map(lambda batch: batch_obj_grad.remote(batch, beta_old), batches)\n",
    "    res_tasks = list(res_iter)\n",
    "    res_list = ray.get(res_tasks)\n",
    "    # 汇总样本量、目标函数和梯度\n",
    "    n, obj, grad = functools.reduce(lambda x, y: (x[0] + y[0], x[1] + y[1], x[2] + y[2]), res_list)\n",
    "    # 计算（平均后）目标函数和梯度\n",
    "    return obj / n, grad / n"
   ]
  },
  {
   "cell_type": "code",
   "execution_count": 17,
   "metadata": {},
   "outputs": [
    {
     "name": "stdout",
     "output_type": "stream",
     "text": [
      "Iteration 0, objfn = 0.6931471805599462, grad_norm = 0.3826928696527176, beta_norm = 0.0\n",
      "Iteration 1, objfn = 0.23149689439082566, grad_norm = 0.024065737690783427, beta_norm = 3.826928696527176\n",
      "Iteration 2, objfn = 0.22751747980651865, grad_norm = 0.01519168771512872, beta_norm = 4.000052106029555\n",
      "Iteration 3, objfn = 0.22540697115686498, grad_norm = 0.012892460074121542, beta_norm = 4.149998340103303\n",
      "Iteration 4, objfn = 0.2238519123347774, grad_norm = 0.011255790271171781, beta_norm = 4.278805018225607\n",
      "Iteration 5, objfn = 0.22266060207698987, grad_norm = 0.009926547077833246, beta_norm = 4.391350146180137\n",
      "Iteration 6, objfn = 0.22173051735211532, grad_norm = 0.008823124968167725, beta_norm = 4.490601253252661\n",
      "Iteration 7, objfn = 0.22099342446643983, grad_norm = 0.007892708735314707, beta_norm = 4.578820824929398\n",
      "Iteration 8, objfn = 0.22040206159936307, grad_norm = 0.007098086098974317, beta_norm = 4.6577380604093594\n",
      "Iteration 9, objfn = 0.21992273262488685, grad_norm = 0.006412192996843476, beta_norm = 4.728710517302631\n",
      "Iteration 10, objfn = 0.21953083271377097, grad_norm = 0.005814827945667335, beta_norm = 4.7928252043870545\n",
      "Iteration 11, objfn = 0.21920803139917935, grad_norm = 0.005290576760955911, beta_norm = 4.850967187085728\n",
      "Iteration 12, objfn = 0.21894043742221958, grad_norm = 0.004827454174437568, beta_norm = 4.90386743921006\n",
      "Iteration 13, objfn = 0.21871736789979215, grad_norm = 0.0044159873413729695, beta_norm = 4.952137118176733\n",
      "Iteration 14, objfn = 0.21853050187545472, grad_norm = 0.0040485810926265174, beta_norm = 4.996292679717512\n",
      "Iteration 15, objfn = 0.2183732853894616, grad_norm = 0.0037190681632825436, beta_norm = 5.036774647972752\n",
      "Iteration 16, objfn = 0.2182405052549022, grad_norm = 0.003422384017396288, beta_norm = 5.073961889775156\n",
      "Iteration 17, objfn = 0.21812797848894996, grad_norm = 0.003154327517531185, beta_norm = 5.1081826384773565\n",
      "Iteration 18, objfn = 0.21803232258119082, grad_norm = 0.0029113819418390818, beta_norm = 5.13972312537594\n",
      "Iteration 19, objfn = 0.21795078324958264, grad_norm = 0.0026905791957268768, beta_norm = 5.168834421944367\n",
      "Iteration 20, objfn = 0.21788110372020073, grad_norm = 0.0024893954465804915, beta_norm = 5.195737924642049\n",
      "Iteration 21, objfn = 0.21782142442471772, grad_norm = 0.002305669956632664, beta_norm = 5.220629796406615\n",
      "Iteration 22, objfn = 0.21777020526631205, grad_norm = 0.002137541272666153, beta_norm = 5.243684596723887\n",
      "Iteration 23, objfn = 0.21772616482621096, grad_norm = 0.001983396561965824, beta_norm = 5.2650582737818645\n",
      "Iteration 24, objfn = 0.21768823242256322, grad_norm = 0.0018418310178375556, beta_norm = 5.284890650126208\n",
      "Iteration 25, objfn = 0.21765551001572575, grad_norm = 0.0017116150582800025, beta_norm = 5.303307502479922\n",
      "Iteration 26, objfn = 0.21762724172525144, grad_norm = 0.0015916676139799426, beta_norm = 5.320422313634261\n",
      "Iteration 27, objfn = 0.21760278928011378, grad_norm = 0.0014810342166921842, beta_norm = 5.336337757285712\n",
      "Iteration 28, objfn = 0.21758161212949845, grad_norm = 0.0013788689032303658, beta_norm = 5.351146963808937\n",
      "Iteration 29, objfn = 0.21756325124064999, grad_norm = 0.0012844191757233414, beta_norm = 5.364934605111143\n",
      "Iteration 30, objfn = 0.21754731583298437, grad_norm = 0.001197013427565553, beta_norm = 5.377777829122257\n",
      "Iteration 31, objfn = 0.21753347246500343, grad_norm = 0.0011160503720476105, beta_norm = 5.389747068571441\n",
      "Iteration 32, objfn = 0.21752143601734492, grad_norm = 0.001040990107917423, beta_norm = 5.400906744071708\n",
      "Iteration 33, objfn = 0.21751096221214367, grad_norm = 0.0009713465309050028, beta_norm = 5.411315877877968\n",
      "Iteration 34, objfn = 0.21750184138341003, grad_norm = 0.0009066808581919551, beta_norm = 5.421028631774947\n",
      "Iteration 35, objfn = 0.21749389327089652, grad_norm = 0.0008465960780404053, beta_norm = 5.4300947802219115\n",
      "Iteration 36, objfn = 0.2174869626549819, grad_norm = 0.0007907321723506432, beta_norm = 5.438560128003735\n",
      "Iteration 37, objfn = 0.2174809156854765, grad_norm = 0.0007387619880466816, beta_norm = 5.4464668801159215\n",
      "Iteration 38, objfn = 0.2174756367851983, grad_norm = 0.0006903876555827606, beta_norm = 5.453853970370537\n",
      "Iteration 39, objfn = 0.21747102603134477, grad_norm = 0.0006453374707963555, beta_norm = 5.460757354193125\n",
      "Iteration 40, objfn = 0.21746699693540328, grad_norm = 0.0006033631707730602, beta_norm = 5.4672102702431715\n",
      "Iteration 41, objfn = 0.21746347455654713, grad_norm = 0.0005642375460779785, beta_norm = 5.473243474797491\n",
      "Iteration 42, objfn = 0.21746039389492483, grad_norm = 0.0005277523412185615, beta_norm = 5.478885452259543\n",
      "Iteration 43, objfn = 0.21745769852052388, grad_norm = 0.0004937164029783355, beta_norm = 5.484162604676498\n",
      "Iteration 44, objfn = 0.21745533940082945, grad_norm = 0.00046195404264586795, beta_norm = 5.489099422742312\n",
      "Iteration 45, objfn = 0.21745327389666688, grad_norm = 0.0004323035834296136, beta_norm = 5.493718640425392\n",
      "Iteration 46, objfn = 0.21745146490065462, grad_norm = 0.0004046160687112478, beta_norm = 5.498041375072396\n",
      "Iteration 47, objfn = 0.2174498800968621, grad_norm = 0.0003787541104174383, beta_norm = 5.502087254596302\n",
      "Iteration 48, objfn = 0.21744849132367813, grad_norm = 0.00035459085981782534, beta_norm = 5.5058745331496874\n",
      "Iteration 49, objfn = 0.21744727402475345, grad_norm = 0.0003320090855938373, beta_norm = 5.509420196507309\n",
      "Iteration 50, objfn = 0.21744620677522858, grad_norm = 0.00031090034615582706, beta_norm = 5.512740058230506\n",
      "Iteration 51, objfn = 0.21744527087243198, grad_norm = 0.00029116424498517283, beta_norm = 5.515848847555789\n",
      "Iteration 52, objfn = 0.21744444998187382, grad_norm = 0.0002727077593008435, beta_norm = 5.518760289837739\n",
      "Iteration 53, objfn = 0.21744372983074128, grad_norm = 0.00025544463364261187, beta_norm = 5.521487180279336\n",
      "Iteration 54, objfn = 0.21744309794225705, grad_norm = 0.00023929483106403923, beta_norm = 5.524041451598825\n",
      "Iteration 55, objfn = 0.21744254340523686, grad_norm = 0.00022418403556834153, beta_norm = 5.526434236209121\n",
      "Iteration 56, objfn = 0.21744205667401192, grad_norm = 0.00021004320022549903, beta_norm = 5.528675923422105\n",
      "Iteration 57, objfn = 0.21744162939456566, grad_norm = 0.0001968081361001757, beta_norm = 5.53077621213459\n",
      "Iteration 58, objfn = 0.21744125425333974, grad_norm = 0.0001844191377153755, beta_norm = 5.532744159403984\n",
      "Iteration 59, objfn = 0.2174409248456579, grad_norm = 0.00017282064129043069, beta_norm = 5.534588225278985\n",
      "Iteration 60, objfn = 0.21744063556114096, grad_norm = 0.00016196091243653936, beta_norm = 5.536316314212989\n",
      "Iteration 61, objfn = 0.2174403814838617, grad_norm = 0.0001517917603785821, beta_norm = 5.537935813354778\n",
      "Iteration 62, objfn = 0.2174401583052857, grad_norm = 0.00014226827610726135, beta_norm = 5.539453627981697\n",
      "Iteration 63, objfn = 0.21743996224832388, grad_norm = 0.00013334859215752572, beta_norm = 5.540876214314596\n",
      "Iteration 64, objfn = 0.2174397900010381, grad_norm = 0.00012499366196446732, beta_norm = 5.5422096099308\n",
      "Iteration 65, objfn = 0.21743963865875138, grad_norm = 0.00011716705697093558, beta_norm = 5.543459461970827\n",
      "Iteration 66, objfn = 0.21743950567346765, grad_norm = 0.00010983477985697562, beta_norm = 5.544631053316377\n",
      "Iteration 67, objfn = 0.21743938880966288, grad_norm = 0.0001029650924331109, beta_norm = 5.545729326900778\n",
      "Iteration 68, objfn = 0.21743928610562827, grad_norm = 9.652835689102403e-05, beta_norm = 5.5467589082985205\n",
      "Iteration 69, objfn = 0.21743919583965413, grad_norm = 9.049688923876927e-05, beta_norm = 5.547724126727437\n",
      "Iteration 70, objfn = 0.21743911650044104, grad_norm = 8.484482386580562e-05, beta_norm = 5.548629034585362\n",
      "Iteration 71, objfn = 0.2174390467611971, grad_norm = 7.954798828772235e-05, beta_norm = 5.549477425632554\n",
      "Iteration 72, objfn = 0.21743898545695906, grad_norm = 7.458378721336028e-05, beta_norm = 5.5502728519216715\n",
      "Iteration 73, objfn = 0.21743893156472624, grad_norm = 6.993109515952442e-05, beta_norm = 5.551018639568521\n",
      "Iteration 74, objfn = 0.21743888418605656, grad_norm = 6.557015691196606e-05, beta_norm = 5.551717903449032\n",
      "Iteration 75, objfn = 0.21743884253181514, grad_norm = 6.148249519680395e-05, beta_norm = 5.552373560900935\n",
      "Iteration 76, objfn = 0.21743880590880388, grad_norm = 5.765082498518456e-05, beta_norm = 5.552988344502214\n",
      "Iteration 77, objfn = 0.21743877370804118, grad_norm = 5.4058973906268026e-05, beta_norm = 5.553564813992686\n",
      "\n",
      "finished in 32.3732693195343 seconds\n"
     ]
    }
   ],
   "source": [
    "import time\n",
    "\n",
    "# 根据数据动态获取维度，不要使用之前模拟时的变量\n",
    "p = ray.get(batches[0]).shape[1] - 2\n",
    "beta_hat = np.zeros(p + 1)\n",
    "# 记录目标函数值\n",
    "objvals = []\n",
    "\n",
    "# 最大迭代次数\n",
    "maxit = 100\n",
    "# 步长\n",
    "step_size = 10.0\n",
    "# 收敛条件\n",
    "eps = 1e-5\n",
    "\n",
    "t1 = time.time()\n",
    "for i in range(maxit):\n",
    "    # 完整数据的样本量和梯度是各分区的加和\n",
    "    objfn, grad = compute_obj_grad(batches, beta_hat)\n",
    "    # 计算新 beta\n",
    "    beta_new = beta_hat - step_size * grad\n",
    "    # 计算梯度的变化\n",
    "    grad_norm = np.linalg.norm(grad)\n",
    "    beta_norm = np.linalg.norm(beta_hat)\n",
    "    print(f\"Iteration {i}, objfn = {objfn}, grad_norm = {grad_norm}, beta_norm = {beta_norm}\")\n",
    "    objvals.append(objfn)\n",
    "    # 如果梯度值较小，退出循环\n",
    "    if grad_norm < eps or grad_norm < eps * beta_norm:\n",
    "        break\n",
    "    # 更新 beta\n",
    "    beta_hat = beta_new\n",
    "t2 = time.time()\n",
    "print(f\"\\nfinished in {t2 - t1} seconds\")"
   ]
  },
  {
   "cell_type": "markdown",
   "metadata": {},
   "source": [
    "2. 利用估计得到的 $\\hat{\\beta}$ 对原始数据进行预测，令 $\\hat{\\rho}_i$ 表示估计出的每个观测 $Y_{2i}$ 取值为1的概率。为每个观测计算一个预测的0-1标签 $\\hat{l}_i$，规则如下：如果 $\\hat{\\rho}_i\\ge 0.5$，则 $\\hat{l}_i=1$，反之 $\\hat{l}_i=0$。利用分布式算法计算模型的预测准确度，即 $n^{-1}\\sum_{i=1}^n I(Y_{2i}=\\hat{l}_i)$。$I(Y_{2i}=\\hat{l}_i)$ 表示预测对取1，预测错取0。"
   ]
  },
  {
   "cell_type": "code",
   "execution_count": 18,
   "metadata": {},
   "outputs": [
    {
     "name": "stdout",
     "output_type": "stream",
     "text": [
      "[ObjectRef(53ed306e90f8601cffffffffffffffffffffffff0100000001000000), ObjectRef(e3cde54a0eaa9328ffffffffffffffffffffffff0100000001000000), ObjectRef(e902a41e0fe75b02ffffffffffffffffffffffff0100000001000000), ObjectRef(9b9091d0284f5df1ffffffffffffffffffffffff0100000001000000), ObjectRef(487e54c28421c0f4ffffffffffffffffffffffff0100000001000000), ObjectRef(5ca0d24b23bebc5fffffffffffffffffffffffff0100000001000000), ObjectRef(e5a701f682a1d5e9ffffffffffffffffffffffff0100000001000000), ObjectRef(ffaae74b9af895bdffffffffffffffffffffffff0100000001000000), ObjectRef(18e041c1fd664af2ffffffffffffffffffffffff0100000001000000), ObjectRef(304dbd9d188a89a5ffffffffffffffffffffffff0100000001000000), ObjectRef(5ad9db7fa405621affffffffffffffffffffffff0100000001000000), ObjectRef(a52f048fc171db45ffffffffffffffffffffffff0100000001000000), ObjectRef(7ff5e3044252e230ffffffffffffffffffffffff0100000001000000), ObjectRef(37037daf7cbeed01ffffffffffffffffffffffff0100000001000000), ObjectRef(62fcc7c57e149ed6ffffffffffffffffffffffff0100000001000000), ObjectRef(039d0e519940ec51ffffffffffffffffffffffff0100000001000000), ObjectRef(03a2633dc47966bcffffffffffffffffffffffff0100000001000000), ObjectRef(0f01ace76fc49ec6ffffffffffffffffffffffff0100000001000000), ObjectRef(82109acd211dc2d3ffffffffffffffffffffffff0100000001000000), ObjectRef(f88d0f8f175c4e49ffffffffffffffffffffffff0100000001000000), ObjectRef(57457f3779bb0160ffffffffffffffffffffffff0100000001000000), ObjectRef(93a482b58edf5692ffffffffffffffffffffffff0100000001000000), ObjectRef(8f44ee330a285119ffffffffffffffffffffffff0100000001000000), ObjectRef(fe8b12498c19c95dffffffffffffffffffffffff0100000001000000), ObjectRef(a9b71e60be4a3a15ffffffffffffffffffffffff0100000001000000), ObjectRef(f1b17262d90a92d2ffffffffffffffffffffffff0100000001000000), ObjectRef(ebf7113fbbbd0fd1ffffffffffffffffffffffff0100000001000000), ObjectRef(c0d8615767a728cbffffffffffffffffffffffff0100000001000000), ObjectRef(50f4b67a0f9b5624ffffffffffffffffffffffff0100000001000000), ObjectRef(12d14060fe9d59acffffffffffffffffffffffff0100000001000000), ObjectRef(de8e04438fac5ee4ffffffffffffffffffffffff0100000001000000), ObjectRef(cbcb91b2216dc860ffffffffffffffffffffffff0100000001000000), ObjectRef(b30eca5215bedc1cffffffffffffffffffffffff0100000001000000), ObjectRef(65a5759cfa9c9d6fffffffffffffffffffffffff0100000001000000), ObjectRef(c8d8535c9b697aceffffffffffffffffffffffff0100000001000000), ObjectRef(73e710675b6606ddffffffffffffffffffffffff0100000001000000), ObjectRef(40064a42f7c41363ffffffffffffffffffffffff0100000001000000), ObjectRef(f204aeb8679f2c58ffffffffffffffffffffffff0100000001000000), ObjectRef(975fb3135c213820ffffffffffffffffffffffff0100000001000000), ObjectRef(c4d52a80ca3ad123ffffffffffffffffffffffff0100000001000000), ObjectRef(1f121eaabcc28583ffffffffffffffffffffffff0100000001000000), ObjectRef(e6c515c6813d844affffffffffffffffffffffff0100000001000000), ObjectRef(c4002ea480ac8455ffffffffffffffffffffffff0100000001000000), ObjectRef(aedb395af3e9e5d8ffffffffffffffffffffffff0100000001000000), ObjectRef(f817bff93d6c1830ffffffffffffffffffffffff0100000001000000), ObjectRef(dae57e5950a41474ffffffffffffffffffffffff0100000001000000), ObjectRef(dde5de442c8daa5affffffffffffffffffffffff0100000001000000), ObjectRef(55201fc4041553e5ffffffffffffffffffffffff0100000001000000), ObjectRef(778c0f040badf8b9ffffffffffffffffffffffff0100000001000000), ObjectRef(d0271232f1aa278effffffffffffffffffffffff0100000001000000), ObjectRef(ac03ce3c80b33d8fffffffffffffffffffffffff0100000001000000), ObjectRef(39dbde591d71bb34ffffffffffffffffffffffff0100000001000000), ObjectRef(8e6e22e9f7c94f78ffffffffffffffffffffffff0100000001000000), ObjectRef(acdaf20b70f87e11ffffffffffffffffffffffff0100000001000000), ObjectRef(c5e6bf4145e3ba7effffffffffffffffffffffff0100000001000000), ObjectRef(620e61e4bee877f6ffffffffffffffffffffffff0100000001000000), ObjectRef(f6ec053f47279cb6ffffffffffffffffffffffff0100000001000000), ObjectRef(735d80d99b1e5ae1ffffffffffffffffffffffff0100000001000000), ObjectRef(b5eea34612ef9633ffffffffffffffffffffffff0100000001000000), ObjectRef(ad3559579f5bb811ffffffffffffffffffffffff0100000001000000), ObjectRef(76c97cb491b5121fffffffffffffffffffffffff0100000001000000), ObjectRef(82ac4f2e11282120ffffffffffffffffffffffff0100000001000000), ObjectRef(4ef246e8a9d22a31ffffffffffffffffffffffff0100000001000000), ObjectRef(80456567a71e0a78ffffffffffffffffffffffff0100000001000000), ObjectRef(58165325e471cd18ffffffffffffffffffffffff0100000001000000), ObjectRef(d577931ba3e1eb2effffffffffffffffffffffff0100000001000000), ObjectRef(1d2f6491a5622134ffffffffffffffffffffffff0100000001000000), ObjectRef(d6aaad2533d91c57ffffffffffffffffffffffff0100000001000000), ObjectRef(0d1421914525a211ffffffffffffffffffffffff0100000001000000), ObjectRef(2a44e701c3dbea3affffffffffffffffffffffff0100000001000000), ObjectRef(eb29dcdf81f22554ffffffffffffffffffffffff0100000001000000), ObjectRef(8bad637439ee36a8ffffffffffffffffffffffff0100000001000000), ObjectRef(64fc4e39f9b4add3ffffffffffffffffffffffff0100000001000000), ObjectRef(4441843cf6b218b2ffffffffffffffffffffffff0100000001000000), ObjectRef(6d7bf78757c4438cffffffffffffffffffffffff0100000001000000), ObjectRef(0fe814a09e7135c9ffffffffffffffffffffffff0100000001000000), ObjectRef(fa784a6929fec70affffffffffffffffffffffff0100000001000000), ObjectRef(62ca1de4be016191ffffffffffffffffffffffff0100000001000000), ObjectRef(6f6fbf6978916251ffffffffffffffffffffffff0100000001000000), ObjectRef(47f9a6a3548b7e39ffffffffffffffffffffffff0100000001000000), ObjectRef(b634b7e0427d7cf0ffffffffffffffffffffffff0100000001000000), ObjectRef(7de8aa91b123e3b7ffffffffffffffffffffffff0100000001000000), ObjectRef(47fb64d7d6109d41ffffffffffffffffffffffff0100000001000000), ObjectRef(8eac0d450d1b8a85ffffffffffffffffffffffff0100000001000000), ObjectRef(9ac0e20360300c87ffffffffffffffffffffffff0100000001000000), ObjectRef(ee3b6f919aa61a31ffffffffffffffffffffffff0100000001000000), ObjectRef(5315d17f350848b8ffffffffffffffffffffffff0100000001000000), ObjectRef(268cc044fb8b90e3ffffffffffffffffffffffff0100000001000000), ObjectRef(16ad188e4a45ddf1ffffffffffffffffffffffff0100000001000000), ObjectRef(d866a2840358a16affffffffffffffffffffffff0100000001000000), ObjectRef(5c21066f066c3a08ffffffffffffffffffffffff0100000001000000), ObjectRef(c4ebcbccd7bf7eeaffffffffffffffffffffffff0100000001000000), ObjectRef(2970e14690eceedfffffffffffffffffffffffff0100000001000000), ObjectRef(055a4d92a74293c4ffffffffffffffffffffffff0100000001000000), ObjectRef(5a6f011786212f76ffffffffffffffffffffffff0100000001000000), ObjectRef(e201b2945299e9a0ffffffffffffffffffffffff0100000001000000), ObjectRef(f3b75725eee76742ffffffffffffffffffffffff0100000001000000), ObjectRef(39ed80e31afe64bbffffffffffffffffffffffff0100000001000000), ObjectRef(c686bc9fa60bd56cffffffffffffffffffffffff0100000001000000), ObjectRef(a672f35f33bf74cfffffffffffffffffffffffff0100000001000000), ObjectRef(4c5e2c6a9e313985ffffffffffffffffffffffff0100000001000000), ObjectRef(6ca2eaf82f94afa4ffffffffffffffffffffffff0100000001000000), ObjectRef(57e24ac6b72eb023ffffffffffffffffffffffff0100000001000000), ObjectRef(87c70fc9f029a2acffffffffffffffffffffffff0100000001000000), ObjectRef(dc9dd9a17889d45affffffffffffffffffffffff0100000001000000), ObjectRef(c9da4f41a21649d8ffffffffffffffffffffffff0100000001000000), ObjectRef(ff876f3afa336685ffffffffffffffffffffffff0100000001000000), ObjectRef(9a8e852d9f01a045ffffffffffffffffffffffff0100000001000000), ObjectRef(3021a0ba2d7b5081ffffffffffffffffffffffff0100000001000000), ObjectRef(28e7dbe65d47dd44ffffffffffffffffffffffff0100000001000000), ObjectRef(feded4ab30a1fc56ffffffffffffffffffffffff0100000001000000), ObjectRef(b655224966023ecaffffffffffffffffffffffff0100000001000000), ObjectRef(389b7784c29eee48ffffffffffffffffffffffff0100000001000000), ObjectRef(457a93970ccc318bffffffffffffffffffffffff0100000001000000), ObjectRef(e4034fdfd7aef742ffffffffffffffffffffffff0100000001000000), ObjectRef(726d732251cc9447ffffffffffffffffffffffff0100000001000000), ObjectRef(288a90ee0dbc8f4fffffffffffffffffffffffff0100000001000000), ObjectRef(25ff1ed1626827a1ffffffffffffffffffffffff0100000001000000), ObjectRef(a2f5e64947d74a4affffffffffffffffffffffff0100000001000000), ObjectRef(c83c4ea4d7f6390affffffffffffffffffffffff0100000001000000), ObjectRef(346fa9fdf0b6dee8ffffffffffffffffffffffff0100000001000000), ObjectRef(02410cb2fc2f7db1ffffffffffffffffffffffff0100000001000000), ObjectRef(23456bd856afd1c5ffffffffffffffffffffffff0100000001000000), ObjectRef(e9d0ddc8f847c345ffffffffffffffffffffffff0100000001000000), ObjectRef(05da07b15d09ba1effffffffffffffffffffffff0100000001000000), ObjectRef(e81f79f8c428a0f2ffffffffffffffffffffffff0100000001000000), ObjectRef(555e3a757350249cffffffffffffffffffffffff0100000001000000), ObjectRef(a68f91b3c6acc6e3ffffffffffffffffffffffff0100000001000000), ObjectRef(c951b7418b237dfbffffffffffffffffffffffff0100000001000000), ObjectRef(bca41db96ac3921bffffffffffffffffffffffff0100000001000000), ObjectRef(05322b09744136bbffffffffffffffffffffffff0100000001000000), ObjectRef(12d5517aac98bed8ffffffffffffffffffffffff0100000001000000), ObjectRef(2b149ce3a9b84c4dffffffffffffffffffffffff0100000001000000), ObjectRef(7d6285f7c0a3eb16ffffffffffffffffffffffff0100000001000000), ObjectRef(76aa5e78b0066609ffffffffffffffffffffffff0100000001000000), ObjectRef(659b95e455758e67ffffffffffffffffffffffff0100000001000000), ObjectRef(6975b7474416d3dcffffffffffffffffffffffff0100000001000000), ObjectRef(d5df9a7ed9174419ffffffffffffffffffffffff0100000001000000), ObjectRef(2067f45f01123c5affffffffffffffffffffffff0100000001000000), ObjectRef(bbab95330f9fae6dffffffffffffffffffffffff0100000001000000), ObjectRef(95fcc0e1e284d4d0ffffffffffffffffffffffff0100000001000000), ObjectRef(9ee48abe7f58cb5dffffffffffffffffffffffff0100000001000000), ObjectRef(bb28bfc5a53792beffffffffffffffffffffffff0100000001000000), ObjectRef(19c3f47da8f4ca23ffffffffffffffffffffffff0100000001000000), ObjectRef(0b11a2dff5e63119ffffffffffffffffffffffff0100000001000000), ObjectRef(3e62f7c6c1a56e29ffffffffffffffffffffffff0100000001000000), ObjectRef(853e94c2ead0a198ffffffffffffffffffffffff0100000001000000), ObjectRef(79e6c118b66ecd89ffffffffffffffffffffffff0100000001000000), ObjectRef(db4f9b38d361a144ffffffffffffffffffffffff0100000001000000), ObjectRef(63715f929c4d1830ffffffffffffffffffffffff0100000001000000), ObjectRef(55e5f2ba20c93554ffffffffffffffffffffffff0100000001000000), ObjectRef(4428ac1f28ee1e26ffffffffffffffffffffffff0100000001000000), ObjectRef(fb1910540c5c7118ffffffffffffffffffffffff0100000001000000), ObjectRef(20842e1db2b8fb81ffffffffffffffffffffffff0100000001000000), ObjectRef(bbac5c944f6b8045ffffffffffffffffffffffff0100000001000000), ObjectRef(7d454080308326f5ffffffffffffffffffffffff0100000001000000), ObjectRef(9ce2c3ea9beb6e43ffffffffffffffffffffffff0100000001000000), ObjectRef(23587bdd82cec9e5ffffffffffffffffffffffff0100000001000000), ObjectRef(8fe56e665e948d83ffffffffffffffffffffffff0100000001000000), ObjectRef(98d48c3be64d7539ffffffffffffffffffffffff0100000001000000), ObjectRef(913fb50ec255c5b8ffffffffffffffffffffffff0100000001000000), ObjectRef(b75adfee7984b85cffffffffffffffffffffffff0100000001000000), ObjectRef(df28660c359cfa70ffffffffffffffffffffffff0100000001000000), ObjectRef(4825a0c84c7bb78affffffffffffffffffffffff0100000001000000), ObjectRef(30fde83e671bef8fffffffffffffffffffffffff0100000001000000), ObjectRef(1853e730c94bbb26ffffffffffffffffffffffff0100000001000000), ObjectRef(3c0917b663b2e7aaffffffffffffffffffffffff0100000001000000), ObjectRef(236af99df5eed859ffffffffffffffffffffffff0100000001000000), ObjectRef(f74ad045d8314c29ffffffffffffffffffffffff0100000001000000), ObjectRef(8960dd533bf8ef98ffffffffffffffffffffffff0100000001000000), ObjectRef(532b19527473eac9ffffffffffffffffffffffff0100000001000000), ObjectRef(96979e84d00238e7ffffffffffffffffffffffff0100000001000000), ObjectRef(64bc9c10a0969d1cffffffffffffffffffffffff0100000001000000), ObjectRef(ad48bee4196f565affffffffffffffffffffffff0100000001000000), ObjectRef(a10ad77102bab623ffffffffffffffffffffffff0100000001000000), ObjectRef(b3b2ca154f334bebffffffffffffffffffffffff0100000001000000), ObjectRef(febab29f85188539ffffffffffffffffffffffff0100000001000000), ObjectRef(19284bbad6a1f85cffffffffffffffffffffffff0100000001000000), ObjectRef(b89dc0081ad78781ffffffffffffffffffffffff0100000001000000), ObjectRef(edcd64777fd8da59ffffffffffffffffffffffff0100000001000000), ObjectRef(7794d1a0f615f49bffffffffffffffffffffffff0100000001000000), ObjectRef(522194bba6fa09c0ffffffffffffffffffffffff0100000001000000), ObjectRef(3db5cbda734a4b14ffffffffffffffffffffffff0100000001000000), ObjectRef(2c920e495076f033ffffffffffffffffffffffff0100000001000000), ObjectRef(f8ac624adf6913d4ffffffffffffffffffffffff0100000001000000), ObjectRef(4832f06efb0477b7ffffffffffffffffffffffff0100000001000000), ObjectRef(6cf5e6069b50b534ffffffffffffffffffffffff0100000001000000), ObjectRef(2f8479196290e97dffffffffffffffffffffffff0100000001000000), ObjectRef(67b7879fd7e3f3eeffffffffffffffffffffffff0100000001000000), ObjectRef(058c88d6d2b4603bffffffffffffffffffffffff0100000001000000), ObjectRef(b354c83a9bdf223cffffffffffffffffffffffff0100000001000000), ObjectRef(8bc46266ba3d9f14ffffffffffffffffffffffff0100000001000000), ObjectRef(8fb6f05ecaec91e8ffffffffffffffffffffffff0100000001000000), ObjectRef(a6107c4da078b1c7ffffffffffffffffffffffff0100000001000000), ObjectRef(6a59cb54df79f5a7ffffffffffffffffffffffff0100000001000000), ObjectRef(1be1dcc1865f92dbffffffffffffffffffffffff0100000001000000), ObjectRef(9c681f6c6b07383cffffffffffffffffffffffff0100000001000000), ObjectRef(81a475ced5b170d8ffffffffffffffffffffffff0100000001000000), ObjectRef(533d96f8cc7273d0ffffffffffffffffffffffff0100000001000000), ObjectRef(77d2d923f58058f4ffffffffffffffffffffffff0100000001000000), ObjectRef(10a596bef3f8e184ffffffffffffffffffffffff0100000001000000), ObjectRef(b3966826263f1ad8ffffffffffffffffffffffff0100000001000000), ObjectRef(afbd3339774e73ceffffffffffffffffffffffff0100000001000000), ObjectRef(3e39574fd0e6ba67ffffffffffffffffffffffff0100000001000000), ObjectRef(37f0f20948c827d3ffffffffffffffffffffffff0100000001000000), ObjectRef(60cfec54a98277e6ffffffffffffffffffffffff0100000001000000), ObjectRef(d9866421e915c953ffffffffffffffffffffffff0100000001000000), ObjectRef(a00b5a97a56845a8ffffffffffffffffffffffff0100000001000000), ObjectRef(273ee310569eb6d0ffffffffffffffffffffffff0100000001000000), ObjectRef(984d7cd06f673e80ffffffffffffffffffffffff0100000001000000), ObjectRef(4299bef81dda9d30ffffffffffffffffffffffff0100000001000000), ObjectRef(aec212f875cf9f3dffffffffffffffffffffffff0100000001000000), ObjectRef(dd7a193f501e041dffffffffffffffffffffffff0100000001000000), ObjectRef(d5b1bdb2fd140a1bffffffffffffffffffffffff0100000001000000), ObjectRef(332750324fdd0dedffffffffffffffffffffffff0100000001000000), ObjectRef(f317be164aa89d1dffffffffffffffffffffffff0100000001000000), ObjectRef(5a1e9cb4cb363cd6ffffffffffffffffffffffff0100000001000000), ObjectRef(95e220405e4e2b8affffffffffffffffffffffff0100000001000000), ObjectRef(69f03bfa736b2fa2ffffffffffffffffffffffff0100000001000000), ObjectRef(e090e98c045d63b1ffffffffffffffffffffffff0100000001000000), ObjectRef(3b45dcfb77b71413ffffffffffffffffffffffff0100000001000000), ObjectRef(7cffe7282e741656ffffffffffffffffffffffff0100000001000000), ObjectRef(558e71cc50e8e79dffffffffffffffffffffffff0100000001000000), ObjectRef(e5df563d22dc4d70ffffffffffffffffffffffff0100000001000000), ObjectRef(ee5a155d4e61ee37ffffffffffffffffffffffff0100000001000000), ObjectRef(ea5b8673fa64c96dffffffffffffffffffffffff0100000001000000), ObjectRef(c3604b352f49c461ffffffffffffffffffffffff0100000001000000), ObjectRef(7f7ff48e9610d9f6ffffffffffffffffffffffff0100000001000000), ObjectRef(fd8cf085432ce941ffffffffffffffffffffffff0100000001000000), ObjectRef(02cbcc1e7e36c3e6ffffffffffffffffffffffff0100000001000000), ObjectRef(36b931690fb91373ffffffffffffffffffffffff0100000001000000), ObjectRef(c78e0aa42f034a39ffffffffffffffffffffffff0100000001000000), ObjectRef(a2fe7841f72c7a42ffffffffffffffffffffffff0100000001000000), ObjectRef(14cdfb27b41dcdafffffffffffffffffffffffff0100000001000000)]\n"
     ]
    }
   ],
   "source": [
    "@ray.remote\n",
    "def batch_predict(batch):\n",
    "    from scipy.special import expit\n",
    "    Y2 = batch[:, 1]\n",
    "    X = batch[:, 2:]\n",
    "    X = np.concatenate((np.ones((X.shape[0], 1)), X), axis=1)\n",
    "    \n",
    "    predict_tag = list(map(lambda x: 1 if x >= 0.5 else 0, expit(X @ beta_hat)))\n",
    "    accurate_count = np.sum(predict_tag == Y2)\n",
    "    count = X.shape[0]\n",
    "    return (accurate_count, count)\n",
    "\n",
    "batches_predict = list(map(batch_predict.remote, batches))\n",
    "print(batches_predict)"
   ]
  },
  {
   "cell_type": "code",
   "execution_count": 19,
   "metadata": {},
   "outputs": [
    {
     "name": "stdout",
     "output_type": "stream",
     "text": [
      "0.9057674151096308\n"
     ]
    }
   ],
   "source": [
    "result_predict = functools.reduce(lambda x, y: (x[0] + y[0], x[1] + y[1]), ray.get(batches_predict))\n",
    "\n",
    "accuracy = result_predict[0] / result_predict[1]\n",
    "print(accuracy)"
   ]
  },
  {
   "cell_type": "code",
   "execution_count": 20,
   "metadata": {},
   "outputs": [],
   "source": [
    "ray.shutdown()"
   ]
  }
 ],
 "metadata": {
  "kernelspec": {
   "display_name": "Python 3 (ipykernel)",
   "language": "python",
   "name": "python3"
  },
  "language_info": {
   "codemirror_mode": {
    "name": "ipython",
    "version": 3
   },
   "file_extension": ".py",
   "mimetype": "text/x-python",
   "name": "python",
   "nbconvert_exporter": "python",
   "pygments_lexer": "ipython3",
   "version": "3.10.13"
  }
 },
 "nbformat": 4,
 "nbformat_minor": 4
}
