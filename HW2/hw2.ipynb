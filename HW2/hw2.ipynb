{
 "cells": [
  {
   "cell_type": "markdown",
   "id": "63a29840",
   "metadata": {},
   "source": [
    "# 作业2"
   ]
  },
  {
   "cell_type": "markdown",
   "id": "a132aded",
   "metadata": {},
   "source": [
    "### 第1题：Numpy 练习"
   ]
  },
  {
   "cell_type": "markdown",
   "id": "ba29b8fc",
   "metadata": {},
   "source": [
    "以下运算都可以调用相应的函数而避免使用显式循环。"
   ]
  },
  {
   "cell_type": "markdown",
   "id": "37a7c48d",
   "metadata": {},
   "source": [
    "(a) 生成1000个服从 (0, 1) 间均匀分布的随机数，赋值给变量 `u`，打印其前10个元素。再生成1000个 (0, 1) 间均匀分布的随机数，赋值给变量 `v`，打印其最后10个元素。"
   ]
  },
  {
   "cell_type": "code",
   "execution_count": 1,
   "id": "d38bd61d",
   "metadata": {},
   "outputs": [
    {
     "name": "stdout",
     "output_type": "stream",
     "text": [
      "[0.58801452 0.69910875 0.18815196 0.04380856 0.20501895 0.10606287\n",
      " 0.72724014 0.67940052 0.4738457  0.44829582]\n",
      "[0.38882145 0.05906198 0.21703983 0.55157187 0.71457371 0.54537386\n",
      " 0.28595563 0.33117239 0.50775814 0.98033782]\n"
     ]
    }
   ],
   "source": [
    "import numpy as np\n",
    "num = 1000\n",
    "\n",
    "np.random.seed(2024)\n",
    "u = np.random.uniform(0,1,num)\n",
    "print(u[:10])\n",
    "v = np.random.uniform(0,1,num)\n",
    "print(v[-10:])\n"
   ]
  },
  {
   "cell_type": "markdown",
   "id": "9e1e545a",
   "metadata": {},
   "source": [
    "(b) 创建向量 `x` 和 `y`，令其在数学上等于 $x=\\sqrt{-2\\log (u)}\\cos(2\\pi v)$，$y=\\sqrt{-2\\log (u)}\\sin(2\\pi v)$，其中 $\\log$ 为自然对数。请使用 Numpy 提供的数学函数来避免显式循环。查找在 Python 中绘制图形的方法，绘制 `x` 和 `y` 的直方图。"
   ]
  },
  {
   "cell_type": "code",
   "execution_count": 2,
   "id": "45aac18c",
   "metadata": {
    "scrolled": true
   },
   "outputs": [
    {
     "data": {
      "image/png": "[encoded data removed]",
      "text/plain": [
       "<Figure size 640x480 with 2 Axes>"
      ]
     },
     "metadata": {},
     "output_type": "display_data"
    }
   ],
   "source": [
    "x = np.sqrt(-2*np.log(u))*np.cos(2*np.pi*v)\n",
    "y = np.sqrt(-2*np.log(u))*np.sin(2*np.pi*v)\n",
    "\n",
    "import matplotlib.pyplot as plt\n",
    "plt.subplot(1,2,1)\n",
    "plt.hist(x, bins=30)\n",
    "plt.title('x')\n",
    "\n",
    "plt.subplot(1,2,2)\n",
    "plt.hist(y, bins=30)\n",
    "plt.title('y')\n",
    "plt.show()"
   ]
  },
  {
   "cell_type": "markdown",
   "id": "d138a339-7d3f-48ea-aad7-0b909def0297",
   "metadata": {},
   "source": [
    "(c) 计算 `x` 和 `y` 向量的线性相关系数。请使用 Numpy 提供的数学函数来避免显式循环。"
   ]
  },
  {
   "cell_type": "code",
   "execution_count": 3,
   "id": "bfd6d1d8-4a7d-4b4c-9625-567f94db684c",
   "metadata": {},
   "outputs": [
    {
     "name": "stdout",
     "output_type": "stream",
     "text": [
      "-0.013358761427087829\n"
     ]
    }
   ],
   "source": [
    "correlation_xy = np.corrcoef(x,y)[0, 1]\n",
    "print(correlation_xy)"
   ]
  },
  {
   "cell_type": "markdown",
   "id": "b361622f",
   "metadata": {},
   "source": [
    "(d) 猜测或证明 $(X,Y)$ 服从什么分布，并简要说明理由。"
   ]
  },
  {
   "cell_type": "markdown",
   "id": "fca4bb86",
   "metadata": {},
   "source": [
    "$(X,Y)$服从二元标准正态分布。证明如下：\n",
    "\n",
    "- 假定$X$和$Y$为两个独立的标准正态随机变量，它们的联合密度函数为：\n",
    "  $$f(x,y) = \\frac{1}{\\sqrt{2\\pi}}e^{-x^2/2}\\frac{1}{\\sqrt{2\\pi}}e^{-y^2/2} = \\frac{1}{2\\pi}e^{-(x^2+y^2)/2}$$\n",
    "- 利用极坐标变换法，对上式进行变量替换：$r^2=x^2+y^2, \\theta=arctan\\frac{y}{x}$，此变换有雅可比行列式为2，故原密度函数可写为：\n",
    "  $$f(x,y) = \\frac{1}{2\\times2\\pi}e^{-r/2}, 0<r<+\\infty, 0<\\theta<2\\pi$$\n",
    "- 可拆解为一个均值为2的指数随机变量和$(0,2\\pi)$上均匀随机变量的密度函数($\\frac{1}{2}e^{-r/2}$和$\\frac{1}{2\\pi}$)乘积，因此可以利用随机数$u,v$以及逆变换法生成$r^2$和$\\theta$这两个随机变量，分别是$-2logu$和$2\\pi$，进而反解出$x=\\sqrt{-2\\log (u)}\\cos(2\\pi v)$，$y=\\sqrt{-2\\log (u)}\\sin(2\\pi v)$。因此$(X,Y)$服从二元标准正态分布。"
   ]
  },
  {
   "cell_type": "markdown",
   "id": "f5fd972a",
   "metadata": {},
   "source": [
    "(e) 将 `y` 转为 $200\\times 5$ 的矩阵，赋值给 `mat1`，元素**按行排列**。打印其前5行。"
   ]
  },
  {
   "cell_type": "code",
   "execution_count": 4,
   "id": "6448b521",
   "metadata": {},
   "outputs": [
    {
     "name": "stdout",
     "output_type": "stream",
     "text": [
      "[[ 1.02066225  0.77080523  0.77363667  0.53944644 -0.63992939]\n",
      " [-0.87822619 -0.0319728  -0.74580088  0.57677044 -1.16271308]\n",
      " [-0.67181501 -0.71279182 -1.00450445  0.20623701 -0.27793848]\n",
      " [ 0.53187881 -0.46499886  0.70335197  0.87019652 -0.76723013]\n",
      " [ 1.04426315 -0.15530945  0.26956186  0.82776483 -0.21639672]]\n"
     ]
    }
   ],
   "source": [
    "mat1 = np.reshape(y, (200,5))\n",
    "print(mat1[:5])"
   ]
  },
  {
   "cell_type": "markdown",
   "id": "be5fb6a1",
   "metadata": {},
   "source": [
    "(f) 将 `y` 转为 $200\\times 5$ 的矩阵，赋值给 `mat2`，元素**按列排列**。打印其前5行。（提示：可以使用转置操作）"
   ]
  },
  {
   "cell_type": "code",
   "execution_count": 5,
   "id": "7e15d387",
   "metadata": {},
   "outputs": [
    {
     "name": "stdout",
     "output_type": "stream",
     "text": [
      "[[ 1.02066225e+00 -2.22517043e-01 -8.33462267e-01 -4.57737515e-01\n",
      "  -1.58404622e+00]\n",
      " [ 7.70805231e-01  2.43315399e-01 -1.18020023e+00  9.43210478e-02\n",
      "   3.53644449e-01]\n",
      " [ 7.73636667e-01 -8.47993885e-02 -8.02134833e-01  1.51598162e+00\n",
      "   1.33439946e+00]\n",
      " [ 5.39446439e-01  2.85976137e+00  3.06347759e-01  4.73728594e-01\n",
      "  -8.46090806e-01]\n",
      " [-6.39929388e-01  4.62956884e-01 -2.06529870e-03  2.05440683e+00\n",
      "   1.59264070e+00]]\n"
     ]
    }
   ],
   "source": [
    "mat2 = np.reshape(y, (5,200)).T\n",
    "print(mat2[:5])"
   ]
  },
  {
   "cell_type": "markdown",
   "id": "3f416e8d",
   "metadata": {},
   "source": [
    "(g) 计算 `mat1` 每一列的均值，得到一个长度为5的向量 `v`，将其打印出来。然后将 `mat1` 的每一列进行中心化（即减去各自的均值），赋给变量 `mat1_centered`。类似地，计算 `mat1_centered` 的列均值向量并打印出来。"
   ]
  },
  {
   "cell_type": "code",
   "execution_count": 6,
   "id": "6634e924",
   "metadata": {},
   "outputs": [
    {
     "name": "stdout",
     "output_type": "stream",
     "text": [
      "[-0.00028795  0.01236572  0.04289148  0.01229356  0.07862658]\n",
      "[ 8.32667268e-19  3.10862447e-17 -1.11022302e-17  2.56739074e-18\n",
      "  3.33066907e-18]\n"
     ]
    }
   ],
   "source": [
    "v = np.mean(mat1, axis=0)\n",
    "print(v)\n",
    "mat1_centered = mat1 - v\n",
    "print(np.mean(mat1_centered, axis=0))"
   ]
  },
  {
   "cell_type": "markdown",
   "id": "d761f5c6",
   "metadata": {},
   "source": [
    "### 第2题：简单并行 Ray 程序"
   ]
  },
  {
   "cell_type": "markdown",
   "id": "a7691017",
   "metadata": {},
   "source": [
    "(a) 参考 `lec3-ray-basics.ipynb` 中的例子，使用蒙特卡洛方法估计 $\\pi$，但进行如下的修改。依然分 $m=1000$ 组对 $S$ 进行独立的估计，但每一组产生点的数量不同，其中第 $i$ 组产生 $n_i=1000\\cdot i$ 个点得到 $\\hat{S}_i$。问这种设定下最终的估计值 $\\hat{S}$ 应该如何计算？请给出其表达式，并解释为什么选择这一形式。（提示：在 `lec3-ray-basics.ipynb` 中，每组产生的点的数量 $n_i$ 相同，最终的估计值为 $\\hat{S}=m^{-1}\\sum_{i=1}^m \\hat{S}_i$。当 $n_i$ 各不相同时，是否依然使用这一表达式？）"
   ]
  },
  {
   "cell_type": "markdown",
   "id": "f68f8f72-dda3-4aca-aebe-b852f4c2ab56",
   "metadata": {},
   "source": [
    "此设定下，估计值应为:\n",
    "$$\\hat{S} = \\sum_{i=1}^{m}\\frac{mi}{\\sum_{i=1}^{m}mi}\\hat{S_i}$$\n",
    "因为对估计量的加权应和该次估计所使用的样本点成正相关。在前例中可以给每个组相同的权重是因为每组样本点数量相同，而样本点数量不同时则应按照这一数量作为权重来求得最终的估计值。"
   ]
  },
  {
   "cell_type": "markdown",
   "id": "e088b04b-3b39-4c2a-b757-0d734b5d0dfc",
   "metadata": {},
   "source": [
    "(b) 使用普通 Python 程序根据 (a) 中的表达式计算 $\\hat{S}$，打印出计算结果并测量计算时间。"
   ]
  },
  {
   "cell_type": "code",
   "execution_count": 7,
   "id": "b0badbc1-c6d4-413a-9091-37ef161e8611",
   "metadata": {},
   "outputs": [
    {
     "name": "stdout",
     "output_type": "stream",
     "text": [
      "test: 3.143996\n",
      "estimation: 3.141585830169831\n",
      "time consumed: 10.897518634796143\n"
     ]
    }
   ],
   "source": [
    "m = 1000\n",
    "def single_estimate(i):\n",
    "    np.random.seed(i)\n",
    "    npoints = m*i\n",
    "    x = np.random.uniform(-1.0, 1.0, npoints)\n",
    "    y = np.random.uniform(-1.0, 1.0, npoints)\n",
    "    in_area = (x**2 + y**2 <= 1.0)\n",
    "    return 4.0 * in_area.sum() / npoints\n",
    "\n",
    "#test\n",
    "print('test:',single_estimate(m))\n",
    "\n",
    "points_num = sum([m*i for i in range(1,m+1)])\n",
    "\n",
    "import time\n",
    "start_time = time.time()\n",
    "final_estimation = sum([m*i/points_num * single_estimate(i) for i in range(1,m+1)]) \n",
    "end_time = time.time()\n",
    "\n",
    "print('estimation:',final_estimation)\n",
    "print('time consumed:',end_time-start_time)"
   ]
  },
  {
   "cell_type": "markdown",
   "id": "44211902-6330-4c37-a538-b2bf5c8f0c57",
   "metadata": {},
   "source": [
    "(c) 使用 Ray 编写程序解决该问题，至少开启4个计算核心，打印出计算结果并测量计算时间。"
   ]
  },
  {
   "cell_type": "code",
   "execution_count": 10,
   "id": "a2be466b-0497-4a0f-9c05-b3de3d295646",
   "metadata": {},
   "outputs": [
    {
     "name": "stderr",
     "output_type": "stream",
     "text": [
      "2024-04-05 18:14:48,548\tINFO worker.py:1715 -- Started a local Ray instance. View the dashboard at \u001b[1m\u001b[32m127.0.0.1:8265 \u001b[39m\u001b[22m\n"
     ]
    },
    {
     "name": "stdout",
     "output_type": "stream",
     "text": [
      "estimation: 3.141585830169831\n",
      "time consumed: 5.75908088684082\n"
     ]
    }
   ],
   "source": [
    "import ray\n",
    "ray.init(num_cpus=8)\n",
    "\n",
    "@ray.remote\n",
    "def parallel_estimate(i):\n",
    "    npoints = m*i\n",
    "    coefficient = npoints/points_num\n",
    "    np.random.seed(i)\n",
    "    x = np.random.uniform(-1.0, 1.0, npoints)\n",
    "    y = np.random.uniform(-1.0, 1.0, npoints)\n",
    "    in_area = (x**2 + y**2 <= 1.0)\n",
    "    return coefficient * 4.0 * in_area.sum() / npoints\n",
    "\n",
    "start_time = time.time()\n",
    "tasks = [parallel_estimate.remote(i) for i in range(1, m+1)]\n",
    "final_estimation_ray = sum(ray.get(tasks))\n",
    "end_time = time.time()\n",
    "\n",
    "ray.shutdown()\n",
    "print('estimation:',final_estimation_ray)\n",
    "print('time consumed:',end_time-start_time)"
   ]
  }
 ],
 "metadata": {
  "kernelspec": {
   "display_name": "Python 3 (ipykernel)",
   "language": "python",
   "name": "python3"
  },
  "language_info": {
   "codemirror_mode": {
    "name": "ipython",
    "version": 3
   },
   "file_extension": ".py",
   "mimetype": "text/x-python",
   "name": "python",
   "nbconvert_exporter": "python",
   "pygments_lexer": "ipython3",
   "version": "3.10.13"
  }
 },
 "nbformat": 4,
 "nbformat_minor": 5
}
